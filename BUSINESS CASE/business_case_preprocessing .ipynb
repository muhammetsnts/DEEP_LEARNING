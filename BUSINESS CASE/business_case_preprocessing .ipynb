{
 "cells": [
  {
   "cell_type": "code",
   "execution_count": 1,
   "metadata": {},
   "outputs": [],
   "source": [
    "import numpy as np\n",
    "from sklearn import preprocessing\n",
    "#inputları standardize etmek için sklearn imkanları kullanılacak\n",
    "#neredeyse her zaman tüm inputlar standardize edilir. Bu sayede algoritmanın kalitesi artar.\n",
    "\n",
    "#csv dosyası yüklenir. delimiter =',' olayı dosya içeriğini virgüllü yerleri böl demek. split gibi.\n",
    "raw_csv_data=np.loadtxt('Audiobooks_data.csv',delimiter= ',')\n",
    "\n",
    "#bizim inputumuz csv deki ilk ve son sütun hariç hepsi. Bu yüzden ilk ve son sütunu almıyoruz.\n",
    "unscaled_inputs_all=raw_csv_data[:,1:-1]#1 den -1 e kadar al dedik\n",
    "targets_all=raw_csv_data[:,-1] #son sütun bizim targetımız. -1 i al demiş olduk"
   ]
  },
  {
   "cell_type": "markdown",
   "metadata": {},
   "source": [
    "### Balance the dataset\n",
    "1. Önce target içindeki 1 leri sayacağız\n",
    "2. Sonra 1 kadar 0 olanları alacağız. diğer 0 ları sileceğiz\n",
    "\n",
    "Eğer 2 den fazla sınıf için bu programı kullanacaksak ona göre burayı balance ederiz"
   ]
  },
  {
   "cell_type": "code",
   "execution_count": 2,
   "metadata": {},
   "outputs": [],
   "source": [
    "#Tüm target sütununu toplarsak kaç tane 1 olduğunu buluruz\n",
    "num_one_targets=int(np.sum(targets_all))\n",
    "#şimdi 1 kadar 0 alıyoruz\n",
    "zero_targets_counter=0 #0ları sayacak bir counter tanımladık.\n",
    "indices_to_remove=[] #slilinecek indexler için değişken tanımladık.\n",
    "\n",
    "for i in range(targets_all.shape[0]): #targets_all bir numpy.darray dir.Bu yüzden targets_all un shape i (0 sütununda), vektörün uzunluğunu verir. Yni bize tüm target sayısını gösterir.\n",
    "    if targets_all[i]==0:\n",
    "        zero_targets_counter+=1\n",
    "        if zero_targets_counter>num_one_targets:\n",
    "            indices_to_remove.append(i) #1lerin sayısından fazla olduğu anda o indexi not aldık ki gerisini silelim.\n",
    "#yani döngüde eğer sıfırsa counterı 1 artır ve eğer counter>1 sayısındansa o indexi not al. Bu indexler zaten 0 olduğundan sileceğiz.\n",
    "\n",
    "unscaled_inputs_equal_priors=np.delete(unscaled_inputs_all,indices_to_remove,axis=0)\n",
    "#np.delete(array, obj to delete, axis) silmeye yarar. Burada indicies_to_temove dizisindeki indeksleri tüm input dizisinden siliyoruz yani inputlarda o indexlerin tüm bilgilerinin silinmiş halini yeni diziye atıyoruz.\n",
    "#bu fonksiyonda unscaled inputs all dan indices_to_remove dizisindeki elemanlara denk gelen satırları si dedik.axis 1 olsaydı index dizisindeki elemanlara denk gelen sütunları silerdi.\n",
    "targets_equal_priors=np.delete(targets_all, indices_to_remove,axis=0)\n",
    "\n",
    "#input ve target balance edildi."
   ]
  },
  {
   "cell_type": "markdown",
   "metadata": {},
   "source": [
    "### Standardize the  (normalization)\n",
    "İnputların ağırlıkları farklı olduğundan büyük olan daha ağır küçük olanın daha hafif olması için standardization yapılır.inputlar şu anda unscaled bunları standardize edeceğiz.(x-m)/stddev"
   ]
  },
  {
   "cell_type": "code",
   "execution_count": 3,
   "metadata": {},
   "outputs": [],
   "source": [
    "scaled_inputs=preprocessing.scale(unscaled_inputs_equal_priors) #değişkendeki tüm elemanları standardize eder."
   ]
  },
  {
   "cell_type": "markdown",
   "metadata": {},
   "source": [
    "### Shuffle the data\n",
    "inputlarıda targetlarıda random karıştırıyoruz. Datayı batch etmeden önce mutlaka karıştırıyoruz. Çünkü farklı tarihlerde farklı satıs miktarı olmuş olabilir."
   ]
  },
  {
   "cell_type": "code",
   "execution_count": 4,
   "metadata": {},
   "outputs": [],
   "source": [
    "shuffled_indices=np.arange(scaled_inputs.shape[0]) #np.arrange([start],stop) verilen aralıkta eşit aralı elemanlardan oluşan dizi döndürür.\n",
    "#arrange fonksiyonunda input sayısı kadar index ürettik.(mesela 10 tane input varsa 1 den 10 a kar değerler olan bir dizi oluşturduk)\n",
    "np.random.shuffle(shuffled_indices)#sonra bu indexleri karıştırdık.\n",
    "\n",
    "shuffled_inputs=scaled_inputs[shuffled_indices]#karıştırılan indexli inputlar yeni değişkene verildi.bu işlemde sadece satırlar aşağı yukarı yönlü karıştırılmış oldu\n",
    "shuffled_targets=targets_equal_priors[shuffled_indices]#aynı şekilde target da"
   ]
  },
  {
   "cell_type": "markdown",
   "metadata": {},
   "source": [
    "### Split the data set val, test, train\n",
    "setleri 80-10-10 şeklinde böleceğiz."
   ]
  },
  {
   "cell_type": "code",
   "execution_count": 5,
   "metadata": {},
   "outputs": [
    {
     "name": "stdout",
     "output_type": "stream",
     "text": [
      "1790.0 3579 0.500139703828\n",
      "217.0 447 0.485458612975\n",
      "230.0 448 0.513392857143\n"
     ]
    }
   ],
   "source": [
    "samples_count=shuffled_inputs.shape[0]\n",
    "\n",
    "train_samples_count = int(0.8*samples_count)\n",
    "validation_samples_count = int(0.1*samples_count)\n",
    "test_samples_count = samples_count - train_samples_count - validation_samples_count\n",
    "#kayıp 1 varsa onu da hesaba katmış olduk\n",
    "\n",
    "train_inputs = shuffled_inputs[:train_samples_count]\n",
    "train_targets = shuffled_targets[:train_samples_count]\n",
    "\n",
    "validation_inputs = shuffled_inputs[train_samples_count:train_samples_count + validation_samples_count]\n",
    "#80 den 80+10 a kadar dedik\n",
    "validation_targets = shuffled_targets[train_samples_count:train_samples_count + validation_samples_count]\n",
    "\n",
    "test_inputs=shuffled_inputs[train_samples_count + validation_samples_count:]\n",
    "test_targets=shuffled_targets[train_samples_count + validation_samples_count:]\n",
    "\n",
    "#tüm data setini balance ettik ama bunları ayrı ayrı balance etmedik.\n",
    "#tüm data setleri için şunları yazdırıyoruz\n",
    "\n",
    "print(np.sum(train_targets),train_samples_count, np.sum(train_targets) / train_samples_count)\n",
    "print(np.sum(validation_targets),validation_samples_count, np.sum(validation_targets)/validation_samples_count)\n",
    "print(np.sum(test_targets),test_samples_count,np.sum(test_targets)/test_samples_count)\n",
    "#hepsinin yaklaşık %50 olması gerek. yani taerget setlerdeki 0 ve 1 sayısı hemen hemen eşit"
   ]
  },
  {
   "cell_type": "markdown",
   "metadata": {},
   "source": [
    "### Save the datasets in .npz file"
   ]
  },
  {
   "cell_type": "code",
   "execution_count": 6,
   "metadata": {},
   "outputs": [],
   "source": [
    "np.savez('Audiobooks_data_train', inputs=train_inputs, targets=train_targets)\n",
    "np.savez(\"Audiobooks_data_validation\", inputs=validation_inputs, targets=validation_targets)\n",
    "np.savez(\"Audiobooks_data_test\", inputs=test_inputs, targets=test_targets)\n",
    "\n",
    "############# artık preprocess işlemi tamam ###########"
   ]
  },
  {
   "cell_type": "markdown",
   "metadata": {},
   "source": [
    "Bu programda veriyi hazırlayıp setlere böldük. Preprocessing işlemi tamamlandı. Data setleri ayrı npz dosyalarına attık ve bizim işimiz onlarla olduğuna göre artık başka bir sayfayla devam edebiliriz. "
   ]
  }
 ],
 "metadata": {
  "kernelspec": {
   "display_name": "Python 3",
   "language": "python",
   "name": "python3"
  },
  "language_info": {
   "codemirror_mode": {
    "name": "ipython",
    "version": 3
   },
   "file_extension": ".py",
   "mimetype": "text/x-python",
   "name": "python",
   "nbconvert_exporter": "python",
   "pygments_lexer": "ipython3",
   "version": "3.7.9"
  }
 },
 "nbformat": 4,
 "nbformat_minor": 4
}
